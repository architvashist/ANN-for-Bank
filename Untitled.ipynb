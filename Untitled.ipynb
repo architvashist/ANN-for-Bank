{
 "cells": [
  {
   "cell_type": "code",
   "execution_count": 1,
   "metadata": {},
   "outputs": [],
   "source": [
    "import tensorflow as tf\n",
    "import numpy as np\n",
    "import pandas as pd"
   ]
  },
  {
   "cell_type": "code",
   "execution_count": 2,
   "metadata": {},
   "outputs": [],
   "source": [
    "data = pd.read_csv(\"Churn_Modelling.csv\")\n",
    "x = data.iloc[:,3:-1].values\n",
    "y = data.iloc[:,-1].values"
   ]
  },
  {
   "cell_type": "code",
   "execution_count": 3,
   "metadata": {},
   "outputs": [
    {
     "data": {
      "text/plain": [
       "array([[619, 'France', 'Female', ..., 1, 1, 101348.88],\n",
       "       [608, 'Spain', 'Female', ..., 0, 1, 112542.58],\n",
       "       [502, 'France', 'Female', ..., 1, 0, 113931.57],\n",
       "       ...,\n",
       "       [709, 'France', 'Female', ..., 0, 1, 42085.58],\n",
       "       [772, 'Germany', 'Male', ..., 1, 0, 92888.52],\n",
       "       [792, 'France', 'Female', ..., 1, 0, 38190.78]], dtype=object)"
      ]
     },
     "execution_count": 3,
     "metadata": {},
     "output_type": "execute_result"
    }
   ],
   "source": [
    "x"
   ]
  },
  {
   "cell_type": "code",
   "execution_count": 4,
   "metadata": {},
   "outputs": [
    {
     "name": "stdout",
     "output_type": "stream",
     "text": [
      "[1 0 1 ... 1 1 0]\n"
     ]
    }
   ],
   "source": [
    "print(y)"
   ]
  },
  {
   "cell_type": "code",
   "execution_count": 5,
   "metadata": {},
   "outputs": [],
   "source": [
    "from sklearn.preprocessing import LabelEncoder\n",
    "le = LabelEncoder()\n",
    "x[:,2]=le.fit_transform(x[:,2])"
   ]
  },
  {
   "cell_type": "code",
   "execution_count": 6,
   "metadata": {},
   "outputs": [
    {
     "name": "stdout",
     "output_type": "stream",
     "text": [
      "[[619 'France' 0 ... 1 1 101348.88]\n",
      " [608 'Spain' 0 ... 0 1 112542.58]\n",
      " [502 'France' 0 ... 1 0 113931.57]\n",
      " ...\n",
      " [709 'France' 0 ... 0 1 42085.58]\n",
      " [772 'Germany' 1 ... 1 0 92888.52]\n",
      " [792 'France' 0 ... 1 0 38190.78]]\n"
     ]
    }
   ],
   "source": [
    "print(x)"
   ]
  },
  {
   "cell_type": "code",
   "execution_count": 7,
   "metadata": {},
   "outputs": [],
   "source": [
    "from sklearn.preprocessing import OneHotEncoder\n",
    "from sklearn.compose import ColumnTransformer\n",
    "ct = ColumnTransformer(transformers=[('encoder',OneHotEncoder(),[1])],remainder='passthrough')\n",
    "x = np.array(ct.fit_transform(x))"
   ]
  },
  {
   "cell_type": "code",
   "execution_count": 8,
   "metadata": {},
   "outputs": [
    {
     "name": "stdout",
     "output_type": "stream",
     "text": [
      "[[1.0 0.0 0.0 ... 1 1 101348.88]\n",
      " [0.0 0.0 1.0 ... 0 1 112542.58]\n",
      " [1.0 0.0 0.0 ... 1 0 113931.57]\n",
      " ...\n",
      " [1.0 0.0 0.0 ... 0 1 42085.58]\n",
      " [0.0 1.0 0.0 ... 1 0 92888.52]\n",
      " [1.0 0.0 0.0 ... 1 0 38190.78]]\n"
     ]
    }
   ],
   "source": [
    "print(x)"
   ]
  },
  {
   "cell_type": "code",
   "execution_count": 9,
   "metadata": {},
   "outputs": [],
   "source": [
    "from sklearn.model_selection import train_test_split\n",
    "x_train,x_test,y_train,y_test = train_test_split(x,y,test_size=0.2,random_state=0)"
   ]
  },
  {
   "cell_type": "code",
   "execution_count": 10,
   "metadata": {},
   "outputs": [],
   "source": [
    "from sklearn.preprocessing import StandardScaler\n",
    "st = StandardScaler()\n",
    "x_train = st.fit_transform(x_train)\n",
    "x_test = st.transform(x_test)"
   ]
  },
  {
   "cell_type": "code",
   "execution_count": 11,
   "metadata": {},
   "outputs": [
    {
     "data": {
      "text/plain": [
       "(array([[-1.01460667, -0.5698444 ,  1.74309049, ...,  0.64259497,\n",
       "         -1.03227043,  1.10643166],\n",
       "        [-1.01460667,  1.75486502, -0.57369368, ...,  0.64259497,\n",
       "          0.9687384 , -0.74866447],\n",
       "        [ 0.98560362, -0.5698444 , -0.57369368, ...,  0.64259497,\n",
       "         -1.03227043,  1.48533467],\n",
       "        ...,\n",
       "        [ 0.98560362, -0.5698444 , -0.57369368, ...,  0.64259497,\n",
       "         -1.03227043,  1.41231994],\n",
       "        [-1.01460667, -0.5698444 ,  1.74309049, ...,  0.64259497,\n",
       "          0.9687384 ,  0.84432121],\n",
       "        [-1.01460667,  1.75486502, -0.57369368, ...,  0.64259497,\n",
       "         -1.03227043,  0.32472465]]),\n",
       " array([[-1.01460667,  1.75486502, -0.57369368, ...,  0.64259497,\n",
       "          0.9687384 ,  1.61085707],\n",
       "        [ 0.98560362, -0.5698444 , -0.57369368, ...,  0.64259497,\n",
       "         -1.03227043,  0.49587037],\n",
       "        [-1.01460667, -0.5698444 ,  1.74309049, ...,  0.64259497,\n",
       "          0.9687384 , -0.42478674],\n",
       "        ...,\n",
       "        [-1.01460667, -0.5698444 ,  1.74309049, ...,  0.64259497,\n",
       "         -1.03227043,  0.71888467],\n",
       "        [-1.01460667,  1.75486502, -0.57369368, ...,  0.64259497,\n",
       "          0.9687384 , -1.54507805],\n",
       "        [-1.01460667,  1.75486502, -0.57369368, ...,  0.64259497,\n",
       "         -1.03227043,  1.61255917]]))"
      ]
     },
     "execution_count": 11,
     "metadata": {},
     "output_type": "execute_result"
    }
   ],
   "source": [
    "x_train,x_test"
   ]
  },
  {
   "cell_type": "code",
   "execution_count": 12,
   "metadata": {},
   "outputs": [],
   "source": [
    "ann = tf.keras.models.Sequential()"
   ]
  },
  {
   "cell_type": "code",
   "execution_count": 13,
   "metadata": {},
   "outputs": [],
   "source": [
    "ann.add(tf.keras.layers.Dense(units=6,activation='relu'))"
   ]
  },
  {
   "cell_type": "code",
   "execution_count": 14,
   "metadata": {},
   "outputs": [],
   "source": [
    "ann.add(tf.keras.layers.Dense(units=6,activation='relu'))"
   ]
  },
  {
   "cell_type": "code",
   "execution_count": 15,
   "metadata": {},
   "outputs": [],
   "source": [
    "ann.add(tf.keras.layers.Dense(units=1,activation='sigmoid'))"
   ]
  },
  {
   "cell_type": "code",
   "execution_count": 16,
   "metadata": {},
   "outputs": [],
   "source": [
    "ann.compile(optimizer='adam',loss='binary_crossentropy' , metrics=['accuracy'])"
   ]
  },
  {
   "cell_type": "code",
   "execution_count": 17,
   "metadata": {},
   "outputs": [
    {
     "name": "stdout",
     "output_type": "stream",
     "text": [
      "Epoch 1/100\n",
      "250/250 [==============================] - 1s 534us/step - loss: 0.5188 - accuracy: 0.7960\n",
      "WARNING:tensorflow:Early stopping conditioned on metric `val_loss` which is not available. Available metrics are: loss,accuracy\n",
      "Epoch 2/100\n",
      "250/250 [==============================] - 0s 532us/step - loss: 0.4672 - accuracy: 0.7960\n",
      "WARNING:tensorflow:Early stopping conditioned on metric `val_loss` which is not available. Available metrics are: loss,accuracy\n",
      "Epoch 3/100\n",
      "250/250 [==============================] - 0s 539us/step - loss: 0.4489 - accuracy: 0.7960\n",
      "WARNING:tensorflow:Early stopping conditioned on metric `val_loss` which is not available. Available metrics are: loss,accuracy\n",
      "Epoch 4/100\n",
      "250/250 [==============================] - 0s 554us/step - loss: 0.4399 - accuracy: 0.7960\n",
      "WARNING:tensorflow:Early stopping conditioned on metric `val_loss` which is not available. Available metrics are: loss,accuracy\n",
      "Epoch 5/100\n",
      "250/250 [==============================] - 0s 540us/step - loss: 0.4350 - accuracy: 0.7960\n",
      "WARNING:tensorflow:Early stopping conditioned on metric `val_loss` which is not available. Available metrics are: loss,accuracy\n",
      "Epoch 6/100\n",
      "250/250 [==============================] - 0s 540us/step - loss: 0.4319 - accuracy: 0.7960\n",
      "WARNING:tensorflow:Early stopping conditioned on metric `val_loss` which is not available. Available metrics are: loss,accuracy\n",
      "Epoch 7/100\n",
      "250/250 [==============================] - 0s 530us/step - loss: 0.4295 - accuracy: 0.7960\n",
      "WARNING:tensorflow:Early stopping conditioned on metric `val_loss` which is not available. Available metrics are: loss,accuracy\n",
      "Epoch 8/100\n",
      "250/250 [==============================] - 0s 524us/step - loss: 0.4274 - accuracy: 0.8087\n",
      "WARNING:tensorflow:Early stopping conditioned on metric `val_loss` which is not available. Available metrics are: loss,accuracy\n",
      "Epoch 9/100\n",
      "250/250 [==============================] - 0s 542us/step - loss: 0.4251 - accuracy: 0.8155\n",
      "WARNING:tensorflow:Early stopping conditioned on metric `val_loss` which is not available. Available metrics are: loss,accuracy\n",
      "Epoch 10/100\n",
      "250/250 [==============================] - 0s 521us/step - loss: 0.4232 - accuracy: 0.8177\n",
      "WARNING:tensorflow:Early stopping conditioned on metric `val_loss` which is not available. Available metrics are: loss,accuracy\n",
      "Epoch 11/100\n",
      "250/250 [==============================] - 0s 536us/step - loss: 0.4213 - accuracy: 0.8196\n",
      "WARNING:tensorflow:Early stopping conditioned on metric `val_loss` which is not available. Available metrics are: loss,accuracy\n",
      "Epoch 12/100\n",
      "250/250 [==============================] - 0s 536us/step - loss: 0.4196 - accuracy: 0.8195\n",
      "WARNING:tensorflow:Early stopping conditioned on metric `val_loss` which is not available. Available metrics are: loss,accuracy\n",
      "Epoch 13/100\n",
      "250/250 [==============================] - 0s 532us/step - loss: 0.4183 - accuracy: 0.8226\n",
      "WARNING:tensorflow:Early stopping conditioned on metric `val_loss` which is not available. Available metrics are: loss,accuracy\n",
      "Epoch 14/100\n",
      "250/250 [==============================] - 0s 530us/step - loss: 0.4168 - accuracy: 0.8246\n",
      "WARNING:tensorflow:Early stopping conditioned on metric `val_loss` which is not available. Available metrics are: loss,accuracy\n",
      "Epoch 15/100\n",
      "250/250 [==============================] - 0s 559us/step - loss: 0.4156 - accuracy: 0.8251\n",
      "WARNING:tensorflow:Early stopping conditioned on metric `val_loss` which is not available. Available metrics are: loss,accuracy\n",
      "Epoch 16/100\n",
      "250/250 [==============================] - 0s 525us/step - loss: 0.4145 - accuracy: 0.8244\n",
      "WARNING:tensorflow:Early stopping conditioned on metric `val_loss` which is not available. Available metrics are: loss,accuracy\n",
      "Epoch 17/100\n",
      "250/250 [==============================] - 0s 550us/step - loss: 0.4135 - accuracy: 0.8260\n",
      "WARNING:tensorflow:Early stopping conditioned on metric `val_loss` which is not available. Available metrics are: loss,accuracy\n",
      "Epoch 18/100\n",
      "250/250 [==============================] - 0s 546us/step - loss: 0.4125 - accuracy: 0.8274\n",
      "WARNING:tensorflow:Early stopping conditioned on metric `val_loss` which is not available. Available metrics are: loss,accuracy\n",
      "Epoch 19/100\n",
      "250/250 [==============================] - 0s 553us/step - loss: 0.4116 - accuracy: 0.8282\n",
      "WARNING:tensorflow:Early stopping conditioned on metric `val_loss` which is not available. Available metrics are: loss,accuracy\n",
      "Epoch 20/100\n",
      "250/250 [==============================] - 0s 554us/step - loss: 0.4107 - accuracy: 0.8303\n",
      "WARNING:tensorflow:Early stopping conditioned on metric `val_loss` which is not available. Available metrics are: loss,accuracy\n",
      "Epoch 21/100\n",
      "250/250 [==============================] - 0s 538us/step - loss: 0.4100 - accuracy: 0.8313\n",
      "WARNING:tensorflow:Early stopping conditioned on metric `val_loss` which is not available. Available metrics are: loss,accuracy\n",
      "Epoch 22/100\n",
      "250/250 [==============================] - 0s 529us/step - loss: 0.4091 - accuracy: 0.8317\n",
      "WARNING:tensorflow:Early stopping conditioned on metric `val_loss` which is not available. Available metrics are: loss,accuracy\n",
      "Epoch 23/100\n",
      "250/250 [==============================] - 0s 528us/step - loss: 0.4082 - accuracy: 0.8329\n",
      "WARNING:tensorflow:Early stopping conditioned on metric `val_loss` which is not available. Available metrics are: loss,accuracy\n",
      "Epoch 24/100\n",
      "250/250 [==============================] - 0s 532us/step - loss: 0.4073 - accuracy: 0.8325\n",
      "WARNING:tensorflow:Early stopping conditioned on metric `val_loss` which is not available. Available metrics are: loss,accuracy\n",
      "Epoch 25/100\n",
      "250/250 [==============================] - 0s 529us/step - loss: 0.4069 - accuracy: 0.8332\n",
      "WARNING:tensorflow:Early stopping conditioned on metric `val_loss` which is not available. Available metrics are: loss,accuracy\n",
      "Epoch 26/100\n",
      "250/250 [==============================] - 0s 558us/step - loss: 0.4057 - accuracy: 0.8346\n",
      "WARNING:tensorflow:Early stopping conditioned on metric `val_loss` which is not available. Available metrics are: loss,accuracy\n",
      "Epoch 27/100\n",
      "250/250 [==============================] - 0s 538us/step - loss: 0.4044 - accuracy: 0.8345\n",
      "WARNING:tensorflow:Early stopping conditioned on metric `val_loss` which is not available. Available metrics are: loss,accuracy\n",
      "Epoch 28/100\n",
      "250/250 [==============================] - 0s 538us/step - loss: 0.4025 - accuracy: 0.8347\n",
      "WARNING:tensorflow:Early stopping conditioned on metric `val_loss` which is not available. Available metrics are: loss,accuracy\n",
      "Epoch 29/100\n",
      "250/250 [==============================] - 0s 542us/step - loss: 0.4003 - accuracy: 0.8349\n",
      "WARNING:tensorflow:Early stopping conditioned on metric `val_loss` which is not available. Available metrics are: loss,accuracy\n",
      "Epoch 30/100\n",
      "250/250 [==============================] - 0s 530us/step - loss: 0.3965 - accuracy: 0.8359\n",
      "WARNING:tensorflow:Early stopping conditioned on metric `val_loss` which is not available. Available metrics are: loss,accuracy\n",
      "Epoch 31/100\n",
      "250/250 [==============================] - 0s 528us/step - loss: 0.3917 - accuracy: 0.8400\n",
      "WARNING:tensorflow:Early stopping conditioned on metric `val_loss` which is not available. Available metrics are: loss,accuracy\n",
      "Epoch 32/100\n",
      "250/250 [==============================] - 0s 531us/step - loss: 0.3872 - accuracy: 0.8411\n",
      "WARNING:tensorflow:Early stopping conditioned on metric `val_loss` which is not available. Available metrics are: loss,accuracy\n",
      "Epoch 33/100\n",
      "250/250 [==============================] - 0s 542us/step - loss: 0.3831 - accuracy: 0.8418\n",
      "WARNING:tensorflow:Early stopping conditioned on metric `val_loss` which is not available. Available metrics are: loss,accuracy\n",
      "Epoch 34/100\n",
      "250/250 [==============================] - 0s 546us/step - loss: 0.3792 - accuracy: 0.8439\n",
      "WARNING:tensorflow:Early stopping conditioned on metric `val_loss` which is not available. Available metrics are: loss,accuracy\n",
      "Epoch 35/100\n",
      "250/250 [==============================] - 0s 529us/step - loss: 0.3762 - accuracy: 0.8456\n",
      "WARNING:tensorflow:Early stopping conditioned on metric `val_loss` which is not available. Available metrics are: loss,accuracy\n",
      "Epoch 36/100\n"
     ]
    },
    {
     "name": "stdout",
     "output_type": "stream",
     "text": [
      "250/250 [==============================] - 0s 540us/step - loss: 0.3737 - accuracy: 0.8464\n",
      "WARNING:tensorflow:Early stopping conditioned on metric `val_loss` which is not available. Available metrics are: loss,accuracy\n",
      "Epoch 37/100\n",
      "250/250 [==============================] - 0s 519us/step - loss: 0.3706 - accuracy: 0.8471\n",
      "WARNING:tensorflow:Early stopping conditioned on metric `val_loss` which is not available. Available metrics are: loss,accuracy\n",
      "Epoch 38/100\n",
      "250/250 [==============================] - 0s 516us/step - loss: 0.3683 - accuracy: 0.8471\n",
      "WARNING:tensorflow:Early stopping conditioned on metric `val_loss` which is not available. Available metrics are: loss,accuracy\n",
      "Epoch 39/100\n",
      "250/250 [==============================] - 0s 515us/step - loss: 0.3660 - accuracy: 0.8505\n",
      "WARNING:tensorflow:Early stopping conditioned on metric `val_loss` which is not available. Available metrics are: loss,accuracy\n",
      "Epoch 40/100\n",
      "250/250 [==============================] - 0s 544us/step - loss: 0.3650 - accuracy: 0.8511\n",
      "WARNING:tensorflow:Early stopping conditioned on metric `val_loss` which is not available. Available metrics are: loss,accuracy\n",
      "Epoch 41/100\n",
      "250/250 [==============================] - 0s 574us/step - loss: 0.3635 - accuracy: 0.8526\n",
      "WARNING:tensorflow:Early stopping conditioned on metric `val_loss` which is not available. Available metrics are: loss,accuracy\n",
      "Epoch 42/100\n",
      "250/250 [==============================] - 0s 567us/step - loss: 0.3622 - accuracy: 0.8528\n",
      "WARNING:tensorflow:Early stopping conditioned on metric `val_loss` which is not available. Available metrics are: loss,accuracy\n",
      "Epoch 43/100\n",
      "250/250 [==============================] - 0s 562us/step - loss: 0.3611 - accuracy: 0.8543\n",
      "WARNING:tensorflow:Early stopping conditioned on metric `val_loss` which is not available. Available metrics are: loss,accuracy\n",
      "Epoch 44/100\n",
      "250/250 [==============================] - 0s 562us/step - loss: 0.3602 - accuracy: 0.8521\n",
      "WARNING:tensorflow:Early stopping conditioned on metric `val_loss` which is not available. Available metrics are: loss,accuracy\n",
      "Epoch 45/100\n",
      "250/250 [==============================] - 0s 570us/step - loss: 0.3598 - accuracy: 0.8537\n",
      "WARNING:tensorflow:Early stopping conditioned on metric `val_loss` which is not available. Available metrics are: loss,accuracy\n",
      "Epoch 46/100\n",
      "250/250 [==============================] - 0s 563us/step - loss: 0.3581 - accuracy: 0.8533\n",
      "WARNING:tensorflow:Early stopping conditioned on metric `val_loss` which is not available. Available metrics are: loss,accuracy\n",
      "Epoch 47/100\n",
      "250/250 [==============================] - 0s 562us/step - loss: 0.3578 - accuracy: 0.8529\n",
      "WARNING:tensorflow:Early stopping conditioned on metric `val_loss` which is not available. Available metrics are: loss,accuracy\n",
      "Epoch 48/100\n",
      "250/250 [==============================] - 0s 566us/step - loss: 0.3572 - accuracy: 0.8547\n",
      "WARNING:tensorflow:Early stopping conditioned on metric `val_loss` which is not available. Available metrics are: loss,accuracy\n",
      "Epoch 49/100\n",
      "250/250 [==============================] - 0s 554us/step - loss: 0.3562 - accuracy: 0.8543\n",
      "WARNING:tensorflow:Early stopping conditioned on metric `val_loss` which is not available. Available metrics are: loss,accuracy\n",
      "Epoch 50/100\n",
      "250/250 [==============================] - 0s 528us/step - loss: 0.3556 - accuracy: 0.8545\n",
      "WARNING:tensorflow:Early stopping conditioned on metric `val_loss` which is not available. Available metrics are: loss,accuracy\n",
      "Epoch 51/100\n",
      "250/250 [==============================] - 0s 544us/step - loss: 0.3547 - accuracy: 0.8554\n",
      "WARNING:tensorflow:Early stopping conditioned on metric `val_loss` which is not available. Available metrics are: loss,accuracy\n",
      "Epoch 52/100\n",
      "250/250 [==============================] - 0s 570us/step - loss: 0.3545 - accuracy: 0.8570\n",
      "WARNING:tensorflow:Early stopping conditioned on metric `val_loss` which is not available. Available metrics are: loss,accuracy\n",
      "Epoch 53/100\n",
      "250/250 [==============================] - 0s 570us/step - loss: 0.3536 - accuracy: 0.8560\n",
      "WARNING:tensorflow:Early stopping conditioned on metric `val_loss` which is not available. Available metrics are: loss,accuracy\n",
      "Epoch 54/100\n",
      "250/250 [==============================] - 0s 554us/step - loss: 0.3529 - accuracy: 0.8587\n",
      "WARNING:tensorflow:Early stopping conditioned on metric `val_loss` which is not available. Available metrics are: loss,accuracy\n",
      "Epoch 55/100\n",
      "250/250 [==============================] - 0s 558us/step - loss: 0.3523 - accuracy: 0.8579\n",
      "WARNING:tensorflow:Early stopping conditioned on metric `val_loss` which is not available. Available metrics are: loss,accuracy\n",
      "Epoch 56/100\n",
      "250/250 [==============================] - 0s 570us/step - loss: 0.3519 - accuracy: 0.8574\n",
      "WARNING:tensorflow:Early stopping conditioned on metric `val_loss` which is not available. Available metrics are: loss,accuracy\n",
      "Epoch 57/100\n",
      "250/250 [==============================] - 0s 539us/step - loss: 0.3510 - accuracy: 0.8566\n",
      "WARNING:tensorflow:Early stopping conditioned on metric `val_loss` which is not available. Available metrics are: loss,accuracy\n",
      "Epoch 58/100\n",
      "250/250 [==============================] - 0s 546us/step - loss: 0.3503 - accuracy: 0.8587\n",
      "WARNING:tensorflow:Early stopping conditioned on metric `val_loss` which is not available. Available metrics are: loss,accuracy\n",
      "Epoch 59/100\n",
      "250/250 [==============================] - 0s 540us/step - loss: 0.3497 - accuracy: 0.8600\n",
      "WARNING:tensorflow:Early stopping conditioned on metric `val_loss` which is not available. Available metrics are: loss,accuracy\n",
      "Epoch 60/100\n",
      "250/250 [==============================] - 0s 554us/step - loss: 0.3489 - accuracy: 0.8590\n",
      "WARNING:tensorflow:Early stopping conditioned on metric `val_loss` which is not available. Available metrics are: loss,accuracy\n",
      "Epoch 61/100\n",
      "250/250 [==============================] - 0s 546us/step - loss: 0.3484 - accuracy: 0.8581\n",
      "WARNING:tensorflow:Early stopping conditioned on metric `val_loss` which is not available. Available metrics are: loss,accuracy\n",
      "Epoch 62/100\n",
      "250/250 [==============================] - 0s 542us/step - loss: 0.3476 - accuracy: 0.8586\n",
      "WARNING:tensorflow:Early stopping conditioned on metric `val_loss` which is not available. Available metrics are: loss,accuracy\n",
      "Epoch 63/100\n",
      "250/250 [==============================] - 0s 558us/step - loss: 0.3479 - accuracy: 0.8590\n",
      "WARNING:tensorflow:Early stopping conditioned on metric `val_loss` which is not available. Available metrics are: loss,accuracy\n",
      "Epoch 64/100\n",
      "250/250 [==============================] - 0s 558us/step - loss: 0.3470 - accuracy: 0.8620\n",
      "WARNING:tensorflow:Early stopping conditioned on metric `val_loss` which is not available. Available metrics are: loss,accuracy\n",
      "Epoch 65/100\n",
      "250/250 [==============================] - 0s 546us/step - loss: 0.3462 - accuracy: 0.8599\n",
      "WARNING:tensorflow:Early stopping conditioned on metric `val_loss` which is not available. Available metrics are: loss,accuracy\n",
      "Epoch 66/100\n",
      "250/250 [==============================] - 0s 530us/step - loss: 0.3460 - accuracy: 0.8612\n",
      "WARNING:tensorflow:Early stopping conditioned on metric `val_loss` which is not available. Available metrics are: loss,accuracy\n",
      "Epoch 67/100\n",
      "250/250 [==============================] - 0s 550us/step - loss: 0.3461 - accuracy: 0.8618\n",
      "WARNING:tensorflow:Early stopping conditioned on metric `val_loss` which is not available. Available metrics are: loss,accuracy\n",
      "Epoch 68/100\n",
      "250/250 [==============================] - 0s 527us/step - loss: 0.3461 - accuracy: 0.8596\n",
      "WARNING:tensorflow:Early stopping conditioned on metric `val_loss` which is not available. Available metrics are: loss,accuracy\n",
      "Epoch 69/100\n",
      "250/250 [==============================] - 0s 542us/step - loss: 0.3452 - accuracy: 0.8606\n",
      "WARNING:tensorflow:Early stopping conditioned on metric `val_loss` which is not available. Available metrics are: loss,accuracy\n",
      "Epoch 70/100\n",
      "250/250 [==============================] - 0s 542us/step - loss: 0.3451 - accuracy: 0.8610\n",
      "WARNING:tensorflow:Early stopping conditioned on metric `val_loss` which is not available. Available metrics are: loss,accuracy\n",
      "Epoch 71/100\n"
     ]
    },
    {
     "name": "stdout",
     "output_type": "stream",
     "text": [
      "250/250 [==============================] - 0s 527us/step - loss: 0.3444 - accuracy: 0.8605\n",
      "WARNING:tensorflow:Early stopping conditioned on metric `val_loss` which is not available. Available metrics are: loss,accuracy\n",
      "Epoch 72/100\n",
      "250/250 [==============================] - 0s 513us/step - loss: 0.3441 - accuracy: 0.8596\n",
      "WARNING:tensorflow:Early stopping conditioned on metric `val_loss` which is not available. Available metrics are: loss,accuracy\n",
      "Epoch 73/100\n",
      "250/250 [==============================] - 0s 516us/step - loss: 0.3442 - accuracy: 0.8595\n",
      "WARNING:tensorflow:Early stopping conditioned on metric `val_loss` which is not available. Available metrics are: loss,accuracy\n",
      "Epoch 74/100\n",
      "250/250 [==============================] - 0s 526us/step - loss: 0.3437 - accuracy: 0.8608\n",
      "WARNING:tensorflow:Early stopping conditioned on metric `val_loss` which is not available. Available metrics are: loss,accuracy\n",
      "Epoch 75/100\n",
      "250/250 [==============================] - 0s 542us/step - loss: 0.3432 - accuracy: 0.8615\n",
      "WARNING:tensorflow:Early stopping conditioned on metric `val_loss` which is not available. Available metrics are: loss,accuracy\n",
      "Epoch 76/100\n",
      "250/250 [==============================] - 0s 518us/step - loss: 0.3429 - accuracy: 0.8606\n",
      "WARNING:tensorflow:Early stopping conditioned on metric `val_loss` which is not available. Available metrics are: loss,accuracy\n",
      "Epoch 77/100\n",
      "250/250 [==============================] - 0s 538us/step - loss: 0.3426 - accuracy: 0.8589\n",
      "WARNING:tensorflow:Early stopping conditioned on metric `val_loss` which is not available. Available metrics are: loss,accuracy\n",
      "Epoch 78/100\n",
      "250/250 [==============================] - 0s 546us/step - loss: 0.3427 - accuracy: 0.8627\n",
      "WARNING:tensorflow:Early stopping conditioned on metric `val_loss` which is not available. Available metrics are: loss,accuracy\n",
      "Epoch 79/100\n",
      "250/250 [==============================] - 0s 542us/step - loss: 0.3423 - accuracy: 0.8602\n",
      "WARNING:tensorflow:Early stopping conditioned on metric `val_loss` which is not available. Available metrics are: loss,accuracy\n",
      "Epoch 80/100\n",
      "250/250 [==============================] - 0s 526us/step - loss: 0.3422 - accuracy: 0.8625\n",
      "WARNING:tensorflow:Early stopping conditioned on metric `val_loss` which is not available. Available metrics are: loss,accuracy\n",
      "Epoch 81/100\n",
      "250/250 [==============================] - 0s 538us/step - loss: 0.3414 - accuracy: 0.8608\n",
      "WARNING:tensorflow:Early stopping conditioned on metric `val_loss` which is not available. Available metrics are: loss,accuracy\n",
      "Epoch 82/100\n",
      "250/250 [==============================] - 0s 534us/step - loss: 0.3416 - accuracy: 0.8625\n",
      "WARNING:tensorflow:Early stopping conditioned on metric `val_loss` which is not available. Available metrics are: loss,accuracy\n",
      "Epoch 83/100\n",
      "250/250 [==============================] - 0s 542us/step - loss: 0.3416 - accuracy: 0.8631\n",
      "WARNING:tensorflow:Early stopping conditioned on metric `val_loss` which is not available. Available metrics are: loss,accuracy\n",
      "Epoch 84/100\n",
      "250/250 [==============================] - 0s 534us/step - loss: 0.3413 - accuracy: 0.8637\n",
      "WARNING:tensorflow:Early stopping conditioned on metric `val_loss` which is not available. Available metrics are: loss,accuracy\n",
      "Epoch 85/100\n",
      "250/250 [==============================] - 0s 550us/step - loss: 0.3413 - accuracy: 0.8629\n",
      "WARNING:tensorflow:Early stopping conditioned on metric `val_loss` which is not available. Available metrics are: loss,accuracy\n",
      "Epoch 86/100\n",
      "250/250 [==============================] - 0s 542us/step - loss: 0.3408 - accuracy: 0.8615\n",
      "WARNING:tensorflow:Early stopping conditioned on metric `val_loss` which is not available. Available metrics are: loss,accuracy\n",
      "Epoch 87/100\n",
      "250/250 [==============================] - 0s 542us/step - loss: 0.3404 - accuracy: 0.8615\n",
      "WARNING:tensorflow:Early stopping conditioned on metric `val_loss` which is not available. Available metrics are: loss,accuracy\n",
      "Epoch 88/100\n",
      "250/250 [==============================] - 0s 546us/step - loss: 0.3402 - accuracy: 0.8619\n",
      "WARNING:tensorflow:Early stopping conditioned on metric `val_loss` which is not available. Available metrics are: loss,accuracy\n",
      "Epoch 89/100\n",
      "250/250 [==============================] - 0s 546us/step - loss: 0.3403 - accuracy: 0.8609\n",
      "WARNING:tensorflow:Early stopping conditioned on metric `val_loss` which is not available. Available metrics are: loss,accuracy\n",
      "Epoch 90/100\n",
      "250/250 [==============================] - 0s 542us/step - loss: 0.3403 - accuracy: 0.8612\n",
      "WARNING:tensorflow:Early stopping conditioned on metric `val_loss` which is not available. Available metrics are: loss,accuracy\n",
      "Epoch 91/100\n",
      "250/250 [==============================] - 0s 538us/step - loss: 0.3398 - accuracy: 0.8625\n",
      "WARNING:tensorflow:Early stopping conditioned on metric `val_loss` which is not available. Available metrics are: loss,accuracy\n",
      "Epoch 92/100\n",
      "250/250 [==============================] - 0s 546us/step - loss: 0.3394 - accuracy: 0.8625\n",
      "WARNING:tensorflow:Early stopping conditioned on metric `val_loss` which is not available. Available metrics are: loss,accuracy\n",
      "Epoch 93/100\n",
      "250/250 [==============================] - 0s 546us/step - loss: 0.3395 - accuracy: 0.8627\n",
      "WARNING:tensorflow:Early stopping conditioned on metric `val_loss` which is not available. Available metrics are: loss,accuracy\n",
      "Epoch 94/100\n",
      "250/250 [==============================] - 0s 531us/step - loss: 0.3397 - accuracy: 0.8622\n",
      "WARNING:tensorflow:Early stopping conditioned on metric `val_loss` which is not available. Available metrics are: loss,accuracy\n",
      "Epoch 95/100\n",
      "250/250 [==============================] - 0s 546us/step - loss: 0.3390 - accuracy: 0.8616\n",
      "WARNING:tensorflow:Early stopping conditioned on metric `val_loss` which is not available. Available metrics are: loss,accuracy\n",
      "Epoch 96/100\n",
      "250/250 [==============================] - 0s 532us/step - loss: 0.3392 - accuracy: 0.8615\n",
      "WARNING:tensorflow:Early stopping conditioned on metric `val_loss` which is not available. Available metrics are: loss,accuracy\n",
      "Epoch 97/100\n",
      "250/250 [==============================] - 0s 538us/step - loss: 0.3388 - accuracy: 0.8624\n",
      "WARNING:tensorflow:Early stopping conditioned on metric `val_loss` which is not available. Available metrics are: loss,accuracy\n",
      "Epoch 98/100\n",
      "250/250 [==============================] - 0s 582us/step - loss: 0.3390 - accuracy: 0.8624\n",
      "WARNING:tensorflow:Early stopping conditioned on metric `val_loss` which is not available. Available metrics are: loss,accuracy\n",
      "Epoch 99/100\n",
      "250/250 [==============================] - 0s 547us/step - loss: 0.3385 - accuracy: 0.8616\n",
      "WARNING:tensorflow:Early stopping conditioned on metric `val_loss` which is not available. Available metrics are: loss,accuracy\n",
      "Epoch 100/100\n",
      "250/250 [==============================] - 0s 562us/step - loss: 0.3387 - accuracy: 0.8620\n",
      "WARNING:tensorflow:Early stopping conditioned on metric `val_loss` which is not available. Available metrics are: loss,accuracy\n"
     ]
    },
    {
     "data": {
      "text/plain": [
       "<tensorflow.python.keras.callbacks.History at 0x22ea99e57c0>"
      ]
     },
     "execution_count": 17,
     "metadata": {},
     "output_type": "execute_result"
    }
   ],
   "source": [
    "early_stopping = tf.keras.callbacks.EarlyStopping(patience=2)\n",
    "ann.fit(x_train, y_train, batch_size = 32, epochs = 100 ,callbacks=[early_stopping])"
   ]
  },
  {
   "cell_type": "code",
   "execution_count": 18,
   "metadata": {},
   "outputs": [
    {
     "name": "stdout",
     "output_type": "stream",
     "text": [
      "Model: \"sequential\"\n",
      "_________________________________________________________________\n",
      "Layer (type)                 Output Shape              Param #   \n",
      "=================================================================\n",
      "dense (Dense)                (32, 6)                   78        \n",
      "_________________________________________________________________\n",
      "dense_1 (Dense)              (32, 6)                   42        \n",
      "_________________________________________________________________\n",
      "dense_2 (Dense)              (32, 1)                   7         \n",
      "=================================================================\n",
      "Total params: 127\n",
      "Trainable params: 127\n",
      "Non-trainable params: 0\n",
      "_________________________________________________________________\n"
     ]
    }
   ],
   "source": [
    "ann.summary()"
   ]
  },
  {
   "cell_type": "code",
   "execution_count": 20,
   "metadata": {},
   "outputs": [
    {
     "name": "stdout",
     "output_type": "stream",
     "text": [
      "[[False]]\n"
     ]
    }
   ],
   "source": [
    "print(ann.predict(st.transform([[1, 0, 0, 600 , 1, 40, 3, 60000, 2, 1, 1, 50000]]))>0.5)"
   ]
  },
  {
   "cell_type": "code",
   "execution_count": 21,
   "metadata": {},
   "outputs": [],
   "source": [
    "y_pred = ann.predict(x_test)\n",
    "y_pred = (y_pred>0.5)"
   ]
  },
  {
   "cell_type": "code",
   "execution_count": 22,
   "metadata": {},
   "outputs": [
    {
     "data": {
      "text/plain": [
       "array([[False],\n",
       "       [False],\n",
       "       [False],\n",
       "       ...,\n",
       "       [False],\n",
       "       [False],\n",
       "       [False]])"
      ]
     },
     "execution_count": 22,
     "metadata": {},
     "output_type": "execute_result"
    }
   ],
   "source": [
    "y_pred"
   ]
  },
  {
   "cell_type": "code",
   "execution_count": 23,
   "metadata": {},
   "outputs": [
    {
     "name": "stdout",
     "output_type": "stream",
     "text": [
      "[[1495  100]\n",
      " [ 190  215]]\n"
     ]
    },
    {
     "data": {
      "text/plain": [
       "0.855"
      ]
     },
     "execution_count": 23,
     "metadata": {},
     "output_type": "execute_result"
    }
   ],
   "source": [
    "from sklearn.metrics import confusion_matrix, accuracy_score\n",
    "cm = confusion_matrix(y_test, y_pred)\n",
    "print(cm)\n",
    "accuracy_score(y_test, y_pred)"
   ]
  },
  {
   "cell_type": "code",
   "execution_count": null,
   "metadata": {},
   "outputs": [],
   "source": []
  }
 ],
 "metadata": {
  "kernelspec": {
   "display_name": "Python 3",
   "language": "python",
   "name": "python3"
  },
  "language_info": {
   "codemirror_mode": {
    "name": "ipython",
    "version": 3
   },
   "file_extension": ".py",
   "mimetype": "text/x-python",
   "name": "python",
   "nbconvert_exporter": "python",
   "pygments_lexer": "ipython3",
   "version": "3.8.5"
  }
 },
 "nbformat": 4,
 "nbformat_minor": 4
}
