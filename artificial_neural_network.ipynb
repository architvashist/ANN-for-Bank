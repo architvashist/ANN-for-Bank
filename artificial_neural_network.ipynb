{
 "cells": [
  {
   "cell_type": "markdown",
   "metadata": {
    "id": "lP6JLo1tGNBg"
   },
   "source": [
    "# Artificial Neural Network"
   ]
  },
  {
   "cell_type": "markdown",
   "metadata": {
    "id": "gWZyYmS_UE_L"
   },
   "source": [
    "### Importing the libraries"
   ]
  },
  {
   "cell_type": "code",
   "execution_count": 18,
   "metadata": {
    "id": "MxkJoQBkUIHC"
   },
   "outputs": [],
   "source": [
    "import numpy as np\n",
    "import pandas as pd\n",
    "import tensorflow as tf"
   ]
  },
  {
   "cell_type": "code",
   "execution_count": 19,
   "metadata": {
    "colab": {
     "base_uri": "https://localhost:8080/",
     "height": 34
    },
    "id": "ZaTwK7ojXr2F",
    "outputId": "0b27a96d-d11a-43e8-ab4b-87c1f01896fe"
   },
   "outputs": [
    {
     "data": {
      "text/plain": [
       "'2.5.0'"
      ]
     },
     "execution_count": 19,
     "metadata": {},
     "output_type": "execute_result"
    }
   ],
   "source": [
    "tf.__version__"
   ]
  },
  {
   "cell_type": "markdown",
   "metadata": {
    "id": "1E0Q3aoKUCRX"
   },
   "source": [
    "## Part 1 - Data Preprocessing"
   ]
  },
  {
   "cell_type": "markdown",
   "metadata": {
    "id": "cKWAkFVGUU0Z"
   },
   "source": [
    "### Importing the dataset"
   ]
  },
  {
   "cell_type": "code",
   "execution_count": 20,
   "metadata": {
    "id": "MXUkhkMfU4wq"
   },
   "outputs": [],
   "source": [
    "dataset = pd.read_csv('Churn_Modelling.csv')\n",
    "X = dataset.iloc[:, 3:-1].values\n",
    "y = dataset.iloc[:, -1].values"
   ]
  },
  {
   "cell_type": "code",
   "execution_count": 21,
   "metadata": {
    "colab": {
     "base_uri": "https://localhost:8080/",
     "height": 137
    },
    "id": "VYP9cQTWbzuI",
    "outputId": "797e7a64-9bac-436a-8c9c-94437e5e7587"
   },
   "outputs": [
    {
     "name": "stdout",
     "output_type": "stream",
     "text": [
      "[[619 'France' 'Female' ... 1 1 101348.88]\n",
      " [608 'Spain' 'Female' ... 0 1 112542.58]\n",
      " [502 'France' 'Female' ... 1 0 113931.57]\n",
      " ...\n",
      " [709 'France' 'Female' ... 0 1 42085.58]\n",
      " [772 'Germany' 'Male' ... 1 0 92888.52]\n",
      " [792 'France' 'Female' ... 1 0 38190.78]]\n"
     ]
    }
   ],
   "source": [
    "print(X)"
   ]
  },
  {
   "cell_type": "code",
   "execution_count": 22,
   "metadata": {
    "colab": {
     "base_uri": "https://localhost:8080/",
     "height": 34
    },
    "id": "38vKGE6Nb2RR",
    "outputId": "a815e42a-e0dd-4cb5-ab97-b17ead98fbc3"
   },
   "outputs": [
    {
     "name": "stdout",
     "output_type": "stream",
     "text": [
      "[1 0 1 ... 1 1 0]\n"
     ]
    }
   ],
   "source": [
    "print(y)"
   ]
  },
  {
   "cell_type": "markdown",
   "metadata": {
    "id": "N6bQ0UgSU-NJ"
   },
   "source": [
    "### Encoding categorical data"
   ]
  },
  {
   "cell_type": "markdown",
   "metadata": {
    "id": "le5MJreAbW52"
   },
   "source": [
    "Label Encoding the \"Gender\" column"
   ]
  },
  {
   "cell_type": "code",
   "execution_count": 23,
   "metadata": {
    "id": "PxVKWXxLbczC"
   },
   "outputs": [],
   "source": [
    "from sklearn.preprocessing import LabelEncoder\n",
    "le = LabelEncoder()\n",
    "X[:, 2] = le.fit_transform(X[:, 2])"
   ]
  },
  {
   "cell_type": "code",
   "execution_count": 24,
   "metadata": {
    "colab": {
     "base_uri": "https://localhost:8080/",
     "height": 137
    },
    "id": "-M1KboxFb6OO",
    "outputId": "e2b8c7e8-0cbc-4cdf-f4eb-7f0853a00b88"
   },
   "outputs": [
    {
     "name": "stdout",
     "output_type": "stream",
     "text": [
      "[[619 'France' 0 ... 1 1 101348.88]\n",
      " [608 'Spain' 0 ... 0 1 112542.58]\n",
      " [502 'France' 0 ... 1 0 113931.57]\n",
      " ...\n",
      " [709 'France' 0 ... 0 1 42085.58]\n",
      " [772 'Germany' 1 ... 1 0 92888.52]\n",
      " [792 'France' 0 ... 1 0 38190.78]]\n"
     ]
    }
   ],
   "source": [
    "print(X)"
   ]
  },
  {
   "cell_type": "markdown",
   "metadata": {
    "id": "CUxGZezpbMcb"
   },
   "source": [
    "One Hot Encoding the \"Geography\" column"
   ]
  },
  {
   "cell_type": "code",
   "execution_count": 25,
   "metadata": {
    "id": "AMXC8-KMVirw"
   },
   "outputs": [],
   "source": [
    "from sklearn.compose import ColumnTransformer\n",
    "from sklearn.preprocessing import OneHotEncoder\n",
    "ct = ColumnTransformer(transformers=[('encoder', OneHotEncoder(), [1])], remainder='passthrough')\n",
    "X = np.array(ct.fit_transform(X))"
   ]
  },
  {
   "cell_type": "code",
   "execution_count": 26,
   "metadata": {
    "colab": {
     "base_uri": "https://localhost:8080/",
     "height": 137
    },
    "id": "ZcxwEon-b8nV",
    "outputId": "23a98af4-5e33-4b26-c27b-f06e3c5d2baf"
   },
   "outputs": [
    {
     "name": "stdout",
     "output_type": "stream",
     "text": [
      "[[1.0 0.0 0.0 ... 1 1 101348.88]\n",
      " [0.0 0.0 1.0 ... 0 1 112542.58]\n",
      " [1.0 0.0 0.0 ... 1 0 113931.57]\n",
      " ...\n",
      " [1.0 0.0 0.0 ... 0 1 42085.58]\n",
      " [0.0 1.0 0.0 ... 1 0 92888.52]\n",
      " [1.0 0.0 0.0 ... 1 0 38190.78]]\n"
     ]
    }
   ],
   "source": [
    "print(X)"
   ]
  },
  {
   "cell_type": "markdown",
   "metadata": {
    "id": "vHol938cW8zd"
   },
   "source": [
    "### Splitting the dataset into the Training set and Test set"
   ]
  },
  {
   "cell_type": "code",
   "execution_count": 27,
   "metadata": {
    "id": "Z-TDt0Y_XEfc"
   },
   "outputs": [],
   "source": [
    "from sklearn.model_selection import train_test_split\n",
    "X_train, X_test, y_train, y_test = train_test_split(X, y, test_size = 0.2, random_state = 0)"
   ]
  },
  {
   "cell_type": "markdown",
   "metadata": {
    "id": "RE_FcHyfV3TQ"
   },
   "source": [
    "### Feature Scaling"
   ]
  },
  {
   "cell_type": "code",
   "execution_count": 28,
   "metadata": {
    "id": "ViCrE00rV8Sk"
   },
   "outputs": [],
   "source": [
    "from sklearn.preprocessing import StandardScaler\n",
    "sc = StandardScaler()\n",
    "X_train = sc.fit_transform(X_train)\n",
    "X_test = sc.transform(X_test)"
   ]
  },
  {
   "cell_type": "markdown",
   "metadata": {
    "id": "-zfEzkRVXIwF"
   },
   "source": [
    "## Part 2 - Building the ANN"
   ]
  },
  {
   "cell_type": "markdown",
   "metadata": {
    "id": "KvdeScabXtlB"
   },
   "source": [
    "### Initializing the ANN"
   ]
  },
  {
   "cell_type": "code",
   "execution_count": 29,
   "metadata": {
    "id": "3dtrScHxXQox"
   },
   "outputs": [],
   "source": [
    "ann = tf.keras.models.Sequential()"
   ]
  },
  {
   "cell_type": "markdown",
   "metadata": {
    "id": "rP6urV6SX7kS"
   },
   "source": [
    "### Adding the input layer and the first hidden layer"
   ]
  },
  {
   "cell_type": "code",
   "execution_count": 30,
   "metadata": {
    "id": "bppGycBXYCQr"
   },
   "outputs": [],
   "source": [
    "ann.add(tf.keras.layers.Dense(units=6, activation='relu'))"
   ]
  },
  {
   "cell_type": "markdown",
   "metadata": {
    "id": "BELWAc_8YJze"
   },
   "source": [
    "### Adding the second hidden layer"
   ]
  },
  {
   "cell_type": "code",
   "execution_count": 31,
   "metadata": {
    "id": "JneR0u0sYRTd"
   },
   "outputs": [],
   "source": [
    "ann.add(tf.keras.layers.Dense(units=6, activation='relu'))"
   ]
  },
  {
   "cell_type": "markdown",
   "metadata": {
    "id": "OyNEe6RXYcU4"
   },
   "source": [
    "### Adding the output layer"
   ]
  },
  {
   "cell_type": "code",
   "execution_count": 32,
   "metadata": {
    "id": "Cn3x41RBYfvY"
   },
   "outputs": [],
   "source": [
    "ann.add(tf.keras.layers.Dense(units=1, activation='sigmoid'))"
   ]
  },
  {
   "cell_type": "markdown",
   "metadata": {
    "id": "JT4u2S1_Y4WG"
   },
   "source": [
    "## Part 3 - Training the ANN"
   ]
  },
  {
   "cell_type": "markdown",
   "metadata": {
    "id": "8GWlJChhY_ZI"
   },
   "source": [
    "### Compiling the ANN"
   ]
  },
  {
   "cell_type": "code",
   "execution_count": 33,
   "metadata": {
    "id": "fG3RrwDXZEaS"
   },
   "outputs": [],
   "source": [
    "ann.compile(optimizer = 'adam', loss = 'binary_crossentropy', metrics = ['accuracy'])"
   ]
  },
  {
   "cell_type": "markdown",
   "metadata": {
    "id": "0QR_G5u7ZLSM"
   },
   "source": [
    "### Training the ANN on the Training set"
   ]
  },
  {
   "cell_type": "code",
   "execution_count": 37,
   "metadata": {},
   "outputs": [
    {
     "name": "stdout",
     "output_type": "stream",
     "text": [
      "Model: \"sequential_1\"\n",
      "_________________________________________________________________\n",
      "Layer (type)                 Output Shape              Param #   \n",
      "=================================================================\n",
      "dense_3 (Dense)              (32, 6)                   78        \n",
      "_________________________________________________________________\n",
      "dense_4 (Dense)              (32, 6)                   42        \n",
      "_________________________________________________________________\n",
      "dense_5 (Dense)              (32, 1)                   7         \n",
      "=================================================================\n",
      "Total params: 127\n",
      "Trainable params: 127\n",
      "Non-trainable params: 0\n",
      "_________________________________________________________________\n"
     ]
    }
   ],
   "source": [
    "ann.summary()"
   ]
  },
  {
   "cell_type": "code",
   "execution_count": 36,
   "metadata": {
    "colab": {
     "base_uri": "https://localhost:8080/",
     "height": 1000
    },
    "id": "nHZ-LKv_ZRb3",
    "outputId": "718cc4b0-b5aa-40f0-9b20-d3d31730a531"
   },
   "outputs": [
    {
     "name": "stdout",
     "output_type": "stream",
     "text": [
      "Epoch 1/100\n",
      "250/250 [==============================] - 0s 577us/step - loss: 0.5882 - accuracy: 0.7613\n",
      "Epoch 2/100\n",
      "250/250 [==============================] - 0s 582us/step - loss: 0.4947 - accuracy: 0.7960\n",
      "Epoch 3/100\n",
      "250/250 [==============================] - 0s 639us/step - loss: 0.4529 - accuracy: 0.7960\n",
      "Epoch 4/100\n",
      "250/250 [==============================] - 0s 630us/step - loss: 0.4331 - accuracy: 0.7962\n",
      "Epoch 5/100\n",
      "250/250 [==============================] - 0s 639us/step - loss: 0.4189 - accuracy: 0.8014\n",
      "Epoch 6/100\n",
      "250/250 [==============================] - 0s 619us/step - loss: 0.4047 - accuracy: 0.8114\n",
      "Epoch 7/100\n",
      "250/250 [==============================] - 0s 553us/step - loss: 0.3928 - accuracy: 0.8166\n",
      "Epoch 8/100\n",
      "250/250 [==============================] - 0s 532us/step - loss: 0.3846 - accuracy: 0.8192\n",
      "Epoch 9/100\n",
      "250/250 [==============================] - 0s 536us/step - loss: 0.3788 - accuracy: 0.8198\n",
      "Epoch 10/100\n",
      "250/250 [==============================] - 0s 574us/step - loss: 0.3741 - accuracy: 0.8196\n",
      "Epoch 11/100\n",
      "250/250 [==============================] - 0s 548us/step - loss: 0.3699 - accuracy: 0.8198\n",
      "Epoch 12/100\n",
      "250/250 [==============================] - 0s 554us/step - loss: 0.3670 - accuracy: 0.8291\n",
      "Epoch 13/100\n",
      "250/250 [==============================] - 0s 534us/step - loss: 0.3641 - accuracy: 0.8465\n",
      "Epoch 14/100\n",
      "250/250 [==============================] - 0s 557us/step - loss: 0.3620 - accuracy: 0.8494\n",
      "Epoch 15/100\n",
      "250/250 [==============================] - 0s 542us/step - loss: 0.3600 - accuracy: 0.8496\n",
      "Epoch 16/100\n",
      "250/250 [==============================] - 0s 544us/step - loss: 0.3582 - accuracy: 0.8490\n",
      "Epoch 17/100\n",
      "250/250 [==============================] - 0s 560us/step - loss: 0.3567 - accuracy: 0.8491\n",
      "Epoch 18/100\n",
      "250/250 [==============================] - 0s 549us/step - loss: 0.3554 - accuracy: 0.8504\n",
      "Epoch 19/100\n",
      "250/250 [==============================] - 0s 549us/step - loss: 0.3541 - accuracy: 0.8521\n",
      "Epoch 20/100\n",
      "250/250 [==============================] - 0s 548us/step - loss: 0.3531 - accuracy: 0.8549\n",
      "Epoch 21/100\n",
      "250/250 [==============================] - 0s 659us/step - loss: 0.3521 - accuracy: 0.8547\n",
      "Epoch 22/100\n",
      "250/250 [==============================] - 0s 635us/step - loss: 0.3513 - accuracy: 0.8565\n",
      "Epoch 23/100\n",
      "250/250 [==============================] - 0s 597us/step - loss: 0.3508 - accuracy: 0.8558\n",
      "Epoch 24/100\n",
      "250/250 [==============================] - 0s 566us/step - loss: 0.3500 - accuracy: 0.8561\n",
      "Epoch 25/100\n",
      "250/250 [==============================] - 0s 555us/step - loss: 0.3494 - accuracy: 0.8568\n",
      "Epoch 26/100\n",
      "250/250 [==============================] - 0s 568us/step - loss: 0.3486 - accuracy: 0.8576\n",
      "Epoch 27/100\n",
      "250/250 [==============================] - 0s 547us/step - loss: 0.3483 - accuracy: 0.8568\n",
      "Epoch 28/100\n",
      "250/250 [==============================] - 0s 569us/step - loss: 0.3479 - accuracy: 0.8577\n",
      "Epoch 29/100\n",
      "250/250 [==============================] - 0s 572us/step - loss: 0.3470 - accuracy: 0.8566\n",
      "Epoch 30/100\n",
      "250/250 [==============================] - 0s 615us/step - loss: 0.3472 - accuracy: 0.8575\n",
      "Epoch 31/100\n",
      "250/250 [==============================] - 0s 559us/step - loss: 0.3465 - accuracy: 0.8580\n",
      "Epoch 32/100\n",
      "250/250 [==============================] - 0s 560us/step - loss: 0.3456 - accuracy: 0.8593\n",
      "Epoch 33/100\n",
      "250/250 [==============================] - 0s 554us/step - loss: 0.3457 - accuracy: 0.8597\n",
      "Epoch 34/100\n",
      "250/250 [==============================] - 0s 550us/step - loss: 0.3448 - accuracy: 0.8599\n",
      "Epoch 35/100\n",
      "250/250 [==============================] - 0s 548us/step - loss: 0.3443 - accuracy: 0.8594\n",
      "Epoch 36/100\n",
      "250/250 [==============================] - 0s 556us/step - loss: 0.3441 - accuracy: 0.8591\n",
      "Epoch 37/100\n",
      "250/250 [==============================] - 0s 615us/step - loss: 0.3440 - accuracy: 0.8600\n",
      "Epoch 38/100\n",
      "250/250 [==============================] - 0s 546us/step - loss: 0.3433 - accuracy: 0.8618\n",
      "Epoch 39/100\n",
      "250/250 [==============================] - 0s 556us/step - loss: 0.3433 - accuracy: 0.8587\n",
      "Epoch 40/100\n",
      "250/250 [==============================] - 0s 550us/step - loss: 0.3433 - accuracy: 0.8609\n",
      "Epoch 41/100\n",
      "250/250 [==============================] - 0s 552us/step - loss: 0.3428 - accuracy: 0.8604\n",
      "Epoch 42/100\n",
      "250/250 [==============================] - 0s 578us/step - loss: 0.3427 - accuracy: 0.8610\n",
      "Epoch 43/100\n",
      "250/250 [==============================] - 0s 558us/step - loss: 0.3423 - accuracy: 0.8597\n",
      "Epoch 44/100\n",
      "250/250 [==============================] - 0s 544us/step - loss: 0.3418 - accuracy: 0.8604\n",
      "Epoch 45/100\n",
      "250/250 [==============================] - 0s 552us/step - loss: 0.3421 - accuracy: 0.8600\n",
      "Epoch 46/100\n",
      "250/250 [==============================] - 0s 554us/step - loss: 0.3417 - accuracy: 0.8621\n",
      "Epoch 47/100\n",
      "250/250 [==============================] - 0s 556us/step - loss: 0.3414 - accuracy: 0.8600\n",
      "Epoch 48/100\n",
      "250/250 [==============================] - 0s 554us/step - loss: 0.3412 - accuracy: 0.8609\n",
      "Epoch 49/100\n",
      "250/250 [==============================] - 0s 564us/step - loss: 0.3412 - accuracy: 0.8608\n",
      "Epoch 50/100\n",
      "250/250 [==============================] - 0s 586us/step - loss: 0.3407 - accuracy: 0.8606\n",
      "Epoch 51/100\n",
      "250/250 [==============================] - 0s 595us/step - loss: 0.3409 - accuracy: 0.8619\n",
      "Epoch 52/100\n",
      "250/250 [==============================] - 0s 543us/step - loss: 0.3405 - accuracy: 0.8602\n",
      "Epoch 53/100\n",
      "250/250 [==============================] - 0s 548us/step - loss: 0.3403 - accuracy: 0.8599\n",
      "Epoch 54/100\n",
      "250/250 [==============================] - 0s 560us/step - loss: 0.3402 - accuracy: 0.8605\n",
      "Epoch 55/100\n",
      "250/250 [==============================] - 0s 538us/step - loss: 0.3402 - accuracy: 0.8602\n",
      "Epoch 56/100\n",
      "250/250 [==============================] - 0s 552us/step - loss: 0.3400 - accuracy: 0.8621\n",
      "Epoch 57/100\n",
      "250/250 [==============================] - 0s 552us/step - loss: 0.3402 - accuracy: 0.8608\n",
      "Epoch 58/100\n",
      "250/250 [==============================] - 0s 548us/step - loss: 0.3393 - accuracy: 0.8622\n",
      "Epoch 59/100\n",
      "250/250 [==============================] - 0s 546us/step - loss: 0.3395 - accuracy: 0.8612\n",
      "Epoch 60/100\n",
      "250/250 [==============================] - 0s 574us/step - loss: 0.3394 - accuracy: 0.8616\n",
      "Epoch 61/100\n",
      "250/250 [==============================] - 0s 556us/step - loss: 0.3392 - accuracy: 0.8610\n",
      "Epoch 62/100\n",
      "250/250 [==============================] - 0s 546us/step - loss: 0.3394 - accuracy: 0.8606\n",
      "Epoch 63/100\n",
      "250/250 [==============================] - 0s 564us/step - loss: 0.3389 - accuracy: 0.8608\n",
      "Epoch 64/100\n",
      "250/250 [==============================] - 0s 566us/step - loss: 0.3388 - accuracy: 0.8599\n",
      "Epoch 65/100\n",
      "250/250 [==============================] - 0s 580us/step - loss: 0.3389 - accuracy: 0.8625\n",
      "Epoch 66/100\n",
      "250/250 [==============================] - 0s 570us/step - loss: 0.3387 - accuracy: 0.8604\n",
      "Epoch 67/100\n",
      "250/250 [==============================] - 0s 548us/step - loss: 0.3383 - accuracy: 0.8615\n",
      "Epoch 68/100\n",
      "250/250 [==============================] - 0s 572us/step - loss: 0.3383 - accuracy: 0.8610\n",
      "Epoch 69/100\n",
      "250/250 [==============================] - 0s 594us/step - loss: 0.3383 - accuracy: 0.8614\n",
      "Epoch 70/100\n",
      "250/250 [==============================] - 0s 594us/step - loss: 0.3382 - accuracy: 0.8615\n",
      "Epoch 71/100\n",
      "250/250 [==============================] - 0s 599us/step - loss: 0.3379 - accuracy: 0.8604\n",
      "Epoch 72/100\n",
      "250/250 [==============================] - 0s 623us/step - loss: 0.3379 - accuracy: 0.8627\n",
      "Epoch 73/100\n",
      "250/250 [==============================] - 0s 578us/step - loss: 0.3377 - accuracy: 0.8624\n",
      "Epoch 74/100\n",
      "250/250 [==============================] - 0s 598us/step - loss: 0.3374 - accuracy: 0.8612\n",
      "Epoch 75/100\n",
      "250/250 [==============================] - 0s 559us/step - loss: 0.3376 - accuracy: 0.8624\n",
      "Epoch 76/100\n",
      "250/250 [==============================] - 0s 572us/step - loss: 0.3375 - accuracy: 0.8622\n",
      "Epoch 77/100\n",
      "250/250 [==============================] - 0s 559us/step - loss: 0.3373 - accuracy: 0.8621\n",
      "Epoch 78/100\n",
      "250/250 [==============================] - 0s 554us/step - loss: 0.3370 - accuracy: 0.8620\n",
      "Epoch 79/100\n"
     ]
    },
    {
     "name": "stdout",
     "output_type": "stream",
     "text": [
      "250/250 [==============================] - 0s 544us/step - loss: 0.3368 - accuracy: 0.8621\n",
      "Epoch 80/100\n",
      "250/250 [==============================] - 0s 541us/step - loss: 0.3370 - accuracy: 0.8622\n",
      "Epoch 81/100\n",
      "250/250 [==============================] - 0s 537us/step - loss: 0.3368 - accuracy: 0.8621\n",
      "Epoch 82/100\n",
      "250/250 [==============================] - 0s 553us/step - loss: 0.3367 - accuracy: 0.8615\n",
      "Epoch 83/100\n",
      "250/250 [==============================] - 0s 575us/step - loss: 0.3367 - accuracy: 0.8619\n",
      "Epoch 84/100\n",
      "250/250 [==============================] - 0s 567us/step - loss: 0.3365 - accuracy: 0.8626\n",
      "Epoch 85/100\n",
      "250/250 [==============================] - 0s 527us/step - loss: 0.3360 - accuracy: 0.8634\n",
      "Epoch 86/100\n",
      "250/250 [==============================] - 0s 623us/step - loss: 0.3360 - accuracy: 0.8614\n",
      "Epoch 87/100\n",
      "250/250 [==============================] - 0s 533us/step - loss: 0.3358 - accuracy: 0.8629\n",
      "Epoch 88/100\n",
      "250/250 [==============================] - 0s 533us/step - loss: 0.3360 - accuracy: 0.8634\n",
      "Epoch 89/100\n",
      "250/250 [==============================] - 0s 639us/step - loss: 0.3356 - accuracy: 0.8624\n",
      "Epoch 90/100\n",
      "250/250 [==============================] - 0s 573us/step - loss: 0.3353 - accuracy: 0.8633\n",
      "Epoch 91/100\n",
      "250/250 [==============================] - 0s 559us/step - loss: 0.3356 - accuracy: 0.8622\n",
      "Epoch 92/100\n",
      "250/250 [==============================] - 0s 529us/step - loss: 0.3356 - accuracy: 0.8634\n",
      "Epoch 93/100\n",
      "250/250 [==============================] - 0s 536us/step - loss: 0.3357 - accuracy: 0.8630\n",
      "Epoch 94/100\n",
      "250/250 [==============================] - 0s 534us/step - loss: 0.3355 - accuracy: 0.8634\n",
      "Epoch 95/100\n",
      "250/250 [==============================] - 0s 528us/step - loss: 0.3353 - accuracy: 0.8631\n",
      "Epoch 96/100\n",
      "250/250 [==============================] - 0s 536us/step - loss: 0.3353 - accuracy: 0.8626\n",
      "Epoch 97/100\n",
      "250/250 [==============================] - 0s 535us/step - loss: 0.3353 - accuracy: 0.8637\n",
      "Epoch 98/100\n",
      "250/250 [==============================] - 0s 530us/step - loss: 0.3348 - accuracy: 0.8633\n",
      "Epoch 99/100\n",
      "250/250 [==============================] - 0s 557us/step - loss: 0.3351 - accuracy: 0.8634\n",
      "Epoch 100/100\n",
      "250/250 [==============================] - 0s 554us/step - loss: 0.3346 - accuracy: 0.8625\n"
     ]
    },
    {
     "data": {
      "text/plain": [
       "<tensorflow.python.keras.callbacks.History at 0x259e7dcab20>"
      ]
     },
     "execution_count": 36,
     "metadata": {},
     "output_type": "execute_result"
    }
   ],
   "source": [
    "ann.fit(X_train, y_train, batch_size = 32, epochs = 100)"
   ]
  },
  {
   "cell_type": "markdown",
   "metadata": {
    "id": "tJj5k2MxZga3"
   },
   "source": [
    "## Part 4 - Making the predictions and evaluating the model"
   ]
  },
  {
   "cell_type": "markdown",
   "metadata": {
    "id": "84QFoqGYeXHL"
   },
   "source": [
    "### Predicting the result of a single observation"
   ]
  },
  {
   "cell_type": "markdown",
   "metadata": {
    "id": "CGRo3eacgDdC"
   },
   "source": [
    "**Homework**\n",
    "\n",
    "Use our ANN model to predict if the customer with the following informations will leave the bank: \n",
    "\n",
    "Geography: France\n",
    "\n",
    "Credit Score: 600\n",
    "\n",
    "Gender: Male\n",
    "\n",
    "Age: 40 years old\n",
    "\n",
    "Tenure: 3 years\n",
    "\n",
    "Balance: \\$ 60000\n",
    "\n",
    "Number of Products: 2\n",
    "\n",
    "Does this customer have a credit card? Yes\n",
    "\n",
    "Is this customer an Active Member: Yes\n",
    "\n",
    "Estimated Salary: \\$ 50000\n",
    "\n",
    "So, should we say goodbye to that customer?"
   ]
  },
  {
   "cell_type": "markdown",
   "metadata": {
    "id": "ZhU1LTgPg-kH"
   },
   "source": [
    "**Solution**"
   ]
  },
  {
   "cell_type": "code",
   "execution_count": null,
   "metadata": {
    "colab": {
     "base_uri": "https://localhost:8080/",
     "height": 34
    },
    "id": "2d8IoCCkeWGL",
    "outputId": "957f3970-e197-4c3b-a150-7f69dc567f5d"
   },
   "outputs": [
    {
     "name": "stdout",
     "output_type": "stream",
     "text": [
      "[[False]]\n"
     ]
    }
   ],
   "source": [
    "print(ann.predict(sc.transform([[1, 0, 0, 600, 1, 40, 3, 60000, 2, 1, 1, 50000]])) > 0.5)"
   ]
  },
  {
   "cell_type": "markdown",
   "metadata": {
    "id": "wGjx94g2n7OV"
   },
   "source": [
    "Therefore, our ANN model predicts that this customer stays in the bank!\n",
    "\n",
    "**Important note 1:** Notice that the values of the features were all input in a double pair of square brackets. That's because the \"predict\" method always expects a 2D array as the format of its inputs. And putting our values into a double pair of square brackets makes the input exactly a 2D array.\n",
    "\n",
    "**Important note 2:** Notice also that the \"France\" country was not input as a string in the last column but as \"1, 0, 0\" in the first three columns. That's because of course the predict method expects the one-hot-encoded values of the state, and as we see in the first row of the matrix of features X, \"France\" was encoded as \"1, 0, 0\". And be careful to include these values in the first three columns, because the dummy variables are always created in the first columns."
   ]
  },
  {
   "cell_type": "markdown",
   "metadata": {
    "id": "u7yx47jPZt11"
   },
   "source": [
    "### Predicting the Test set results"
   ]
  },
  {
   "cell_type": "code",
   "execution_count": null,
   "metadata": {
    "colab": {
     "base_uri": "https://localhost:8080/",
     "height": 137
    },
    "id": "nIyEeQdRZwgs",
    "outputId": "82330ba8-9bdc-4fd1-d3cf-b6d78ee7c2a3"
   },
   "outputs": [
    {
     "name": "stdout",
     "output_type": "stream",
     "text": [
      "[[0 0]\n",
      " [0 1]\n",
      " [0 0]\n",
      " ...\n",
      " [0 0]\n",
      " [0 0]\n",
      " [0 0]]\n"
     ]
    }
   ],
   "source": [
    "y_pred = ann.predict(X_test)\n",
    "y_pred = (y_pred > 0.5)\n",
    "print(np.concatenate((y_pred.reshape(len(y_pred),1), y_test.reshape(len(y_test),1)),1))"
   ]
  },
  {
   "cell_type": "markdown",
   "metadata": {
    "id": "o0oyfLWoaEGw"
   },
   "source": [
    "### Making the Confusion Matrix"
   ]
  },
  {
   "cell_type": "code",
   "execution_count": null,
   "metadata": {
    "colab": {
     "base_uri": "https://localhost:8080/",
     "height": 68
    },
    "id": "ci6K_r6LaF6P",
    "outputId": "4d854e9e-22d5-432f-f6e5-a102fe3ae0bd"
   },
   "outputs": [
    {
     "name": "stdout",
     "output_type": "stream",
     "text": [
      "[[1516   79]\n",
      " [ 200  205]]\n"
     ]
    },
    {
     "data": {
      "text/plain": [
       "0.8605"
      ]
     },
     "execution_count": 20,
     "metadata": {
      "tags": []
     },
     "output_type": "execute_result"
    }
   ],
   "source": [
    "from sklearn.metrics import confusion_matrix, accuracy_score\n",
    "cm = confusion_matrix(y_test, y_pred)\n",
    "print(cm)\n",
    "accuracy_score(y_test, y_pred)"
   ]
  }
 ],
 "metadata": {
  "colab": {
   "collapsed_sections": [],
   "name": "artificial_neural_network.ipynb",
   "provenance": [],
   "toc_visible": true
  },
  "kernelspec": {
   "display_name": "Python 3",
   "language": "python",
   "name": "python3"
  },
  "language_info": {
   "codemirror_mode": {
    "name": "ipython",
    "version": 3
   },
   "file_extension": ".py",
   "mimetype": "text/x-python",
   "name": "python",
   "nbconvert_exporter": "python",
   "pygments_lexer": "ipython3",
   "version": "3.8.5"
  }
 },
 "nbformat": 4,
 "nbformat_minor": 1
}
